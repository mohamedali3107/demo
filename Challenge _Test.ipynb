{
 "cells": [
  {
   "cell_type": "code",
   "execution_count": null,
   "id": "99d4af30",
   "metadata": {},
   "outputs": [],
   "source": [
    "import numpy as np\n",
    "import pandas as pd\n",
    "import matplotlib.pyplot as plt\n",
    "import seaborn as sns\n",
    "\n",
    "\n",
    "from sklearn.decomposition import PCA\n",
    "from sklearn.cluster import KMeans\n",
    "from sklearn.ensemble import RandomForestClassifier \n",
    "from sklearn.tree import DecisionTreeClassifier\n",
    "from sklearn.ensemble import GradientBoostingClassifier\n",
    "from sklearn.model_selection import GridSearchCV\n",
    "\n",
    "from sklearn import metrics\n",
    "\n",
    "\n",
    "import warnings"
   ]
  },
  {
   "cell_type": "code",
   "execution_count": null,
   "id": "ff33ef66",
   "metadata": {},
   "outputs": [],
   "source": [
    "warnings.filterwarnings(\"ignore\")"
   ]
  },
  {
   "cell_type": "markdown",
   "id": "ee9b333f",
   "metadata": {},
   "source": [
    "# Data Cleaning and preview"
   ]
  },
  {
   "cell_type": "code",
   "execution_count": null,
   "id": "6568493c",
   "metadata": {},
   "outputs": [],
   "source": [
    "#Import Data\n",
    "train = pd.read_csv('train.csv')\n",
    "test = pd.read_csv('test.csv')"
   ]
  },
  {
   "cell_type": "code",
   "execution_count": null,
   "id": "17ac6167",
   "metadata": {
    "scrolled": false
   },
   "outputs": [],
   "source": [
    "train.head()"
   ]
  },
  {
   "cell_type": "code",
   "execution_count": null,
   "id": "8dce26d3",
   "metadata": {},
   "outputs": [],
   "source": [
    "train.info()"
   ]
  },
  {
   "cell_type": "code",
   "execution_count": null,
   "id": "f240ec8e",
   "metadata": {},
   "outputs": [],
   "source": [
    "train=train.drop('Unnamed: 0', axis = 'columns')\n",
    "test=test.drop('Unnamed: 0', axis = 'columns')"
   ]
  },
  {
   "cell_type": "code",
   "execution_count": null,
   "id": "7cc4cdf8",
   "metadata": {},
   "outputs": [],
   "source": [
    "fig, axs = plt.subplots(1, 2)\n",
    "sns.countplot(x=\"type\", data=train, ax=axs[0])\n",
    "axs[0].set_title(\"Train \", fontsize=30)\n",
    "sns.countplot(x=\"type\", data=test, ax=axs[1])\n",
    "axs[1].set_title(\"Test\", fontsize=30)\n",
    "plt.show()"
   ]
  },
  {
   "cell_type": "code",
   "execution_count": null,
   "id": "87db402d",
   "metadata": {},
   "outputs": [],
   "source": [
    "def summary(data):\n",
    "    # Get stats\n",
    "    output_data = data.describe().transpose()\n",
    "    # Count of NANs\n",
    "    output_data['Count_NaNs'] = (data.shape[0] - output_data['count'])/ data.shape[0] * 100   \n",
    "    # Count unique values\n",
    "    output_data['Count_Distincts'] = data.apply(lambda x: len(pd.unique(x)), axis=0)  \n",
    "    return output_data\n",
    "summary(train)"
   ]
  },
  {
   "cell_type": "code",
   "execution_count": null,
   "id": "7931e7c8",
   "metadata": {},
   "outputs": [],
   "source": [
    "# Verification NA\n",
    "def compute_missing_values(data):\n",
    "    total = data.isnull().sum().sort_values(ascending=False)\n",
    "    percent = (data.isnull().sum()/data.isnull().count()).sort_values(ascending=False)\n",
    "    missing_data = pd.concat([total,percent], axis=1, keys=['Total', 'Pourcentage'])\n",
    "    #Affiche que les variables avec des na\n",
    "    print (missing_data[(percent>0)],'\\n' )\n",
    "    return missing_data[(percent>0)].index.tolist()\n"
   ]
  },
  {
   "cell_type": "code",
   "execution_count": null,
   "id": "03bd81ba",
   "metadata": {},
   "outputs": [],
   "source": [
    "compute_missing_values(train)"
   ]
  },
  {
   "cell_type": "code",
   "execution_count": null,
   "id": "0e72b6f9",
   "metadata": {},
   "outputs": [],
   "source": [
    "print(f\"Train data has {train.isna().sum().sum()} NAs\")\n",
    "print(f\"Test data has {test.isna().sum().sum()} NAs\")"
   ]
  },
  {
   "cell_type": "code",
   "execution_count": null,
   "id": "0c88db2c",
   "metadata": {},
   "outputs": [],
   "source": [
    "duplicateRows = train[train.duplicated()]\n",
    "duplicateRows"
   ]
  },
  {
   "cell_type": "code",
   "execution_count": null,
   "id": "9fcaa0aa",
   "metadata": {},
   "outputs": [],
   "source": [
    "y_train = train['type']"
   ]
  },
  {
   "cell_type": "code",
   "execution_count": null,
   "id": "a7762e6b",
   "metadata": {},
   "outputs": [],
   "source": [
    "y_train"
   ]
  },
  {
   "cell_type": "markdown",
   "id": "3c827ded",
   "metadata": {},
   "source": [
    "# Counting of sample subtypes"
   ]
  },
  {
   "cell_type": "code",
   "execution_count": null,
   "id": "c8e30815",
   "metadata": {},
   "outputs": [],
   "source": [
    "y_train.value_counts().plot(kind='bar')"
   ]
  },
  {
   "cell_type": "code",
   "execution_count": null,
   "id": "8e9c990b",
   "metadata": {},
   "outputs": [],
   "source": [
    "train.groupby(\"type\").size().reset_index().rename(columns={0:\"Count\"})"
   ]
  },
  {
   "cell_type": "code",
   "execution_count": null,
   "id": "e671c87c",
   "metadata": {},
   "outputs": [],
   "source": [
    "from sklearn.preprocessing import StandardScaler, LabelEncoder\n",
    "le = LabelEncoder()\n",
    "train[\"type\"] = le.fit_transform(train[\"type\"])\n",
    "test[\"type\"] = le.fit_transform(test[\"type\"])\n",
    "#train = pd.merge(train, on=\"samples\")\n",
    "\n",
    "#test = pd.merge(test, on=\"samples\")"
   ]
  },
  {
   "cell_type": "code",
   "execution_count": null,
   "id": "cc63a90e",
   "metadata": {},
   "outputs": [],
   "source": [
    "train[\"type\"]\n"
   ]
  },
  {
   "cell_type": "code",
   "execution_count": null,
   "id": "f97f9622",
   "metadata": {},
   "outputs": [],
   "source": [
    "train.groupby(\"type\").size().reset_index().rename(columns={0:\"Count\"})"
   ]
  },
  {
   "cell_type": "code",
   "execution_count": null,
   "id": "6c2b24af",
   "metadata": {},
   "outputs": [],
   "source": [
    "# split data into X and y\n",
    "X_train = train.drop(columns=[\"samples\", \"type\"])\n",
    "y_train = train[\"type\"]\n",
    "X_test = test.drop(columns=[\"samples\", \"type\"])\n",
    "y_test = test[\"type\"]"
   ]
  },
  {
   "cell_type": "code",
   "execution_count": null,
   "id": "de488945",
   "metadata": {},
   "outputs": [],
   "source": [
    "X_train.head()"
   ]
  },
  {
   "cell_type": "code",
   "execution_count": null,
   "id": "a8eae549",
   "metadata": {},
   "outputs": [],
   "source": [
    "# Features scaling\n",
    "sc = StandardScaler()\n",
    "X_train_scaled = sc.fit_transform(X_train)\n",
    "X_test_scaled = sc.fit_transform(X_test)"
   ]
  },
  {
   "cell_type": "code",
   "execution_count": null,
   "id": "251f9b72",
   "metadata": {
    "scrolled": false
   },
   "outputs": [],
   "source": [
    "train.iloc[:,2:] "
   ]
  },
  {
   "cell_type": "code",
   "execution_count": null,
   "id": "54ea2c54",
   "metadata": {},
   "outputs": [],
   "source": [
    "X_train_scaled"
   ]
  },
  {
   "cell_type": "markdown",
   "id": "0b0982ad",
   "metadata": {},
   "source": [
    "# Dimentionality reduction and clusterisation"
   ]
  },
  {
   "cell_type": "code",
   "execution_count": null,
   "id": "51c7a6b0",
   "metadata": {},
   "outputs": [],
   "source": [
    "reduced_train = PCA().fit_transform(X_train_scaled)\n",
    "kmeans = KMeans(n_clusters=4, n_init=20)\n",
    "kmeans.fit(train.iloc[:,2:])"
   ]
  },
  {
   "cell_type": "code",
   "execution_count": null,
   "id": "7b29494a",
   "metadata": {},
   "outputs": [],
   "source": [
    "sns.scatterplot(x=reduced_train[0], y=reduced_train[1], hue=kmeans.labels_)\n",
    "plt.xticks(())\n",
    "plt.yticks(())\n",
    "plt.show()"
   ]
  },
  {
   "cell_type": "code",
   "execution_count": null,
   "id": "c4740733",
   "metadata": {
    "scrolled": true
   },
   "outputs": [],
   "source": [
    "pca = PCA()\n",
    "pca.fit_transform(X_train_scaled)\n",
    "total = sum(pca.explained_variance_)\n",
    "k = 0\n",
    "current_variance = 0\n",
    "while current_variance / total < 0.90:\n",
    "    current_variance += pca.explained_variance_[k]\n",
    "    k = k + 1   \n",
    "print(k, \" features explain around 90% of the variance. From 22283 features to \", k, sep='')\n",
    "\n",
    "pca = PCA(n_components=k)\n",
    "X_train_pca = pca.fit(X_train_scaled)\n",
    "X_train_pca = pca.transform(X_train_scaled)\n",
    "X_test_pca = pca.transform(X_test_scaled)\n",
    "\n",
    "var_exp = pca.explained_variance_ratio_.cumsum()\n",
    "var_exp = var_exp*100\n",
    "plt.bar(range(1, k + 1), var_exp, color=\"brown\")\n",
    "plt.xlabel(\"Cumulutive explained variance\", fontsize=18)\n",
    "plt.ylabel(\"Number of components\", fontsize=18)\n",
    "plt.xlim((0.5, k + 1))\n",
    "plt.show()"
   ]
  },
  {
   "cell_type": "markdown",
   "id": "c15ef404",
   "metadata": {},
   "source": [
    " Remark that we can take approximately 57 PC for downstream analysis"
   ]
  },
  {
   "cell_type": "markdown",
   "id": "90915ad6",
   "metadata": {},
   "source": [
    "# Machine Learning Models"
   ]
  },
  {
   "cell_type": "markdown",
   "id": "1c10510a",
   "metadata": {},
   "source": [
    "## Random Forest"
   ]
  },
  {
   "cell_type": "code",
   "execution_count": null,
   "id": "efff05d6",
   "metadata": {},
   "outputs": [],
   "source": [
    "from sklearn.ensemble import RandomForestClassifier as rfc \n",
    "from sklearn.metrics import confusion_matrix,accuracy_score\n",
    "max_depth_best = []\n",
    "for i in range(1,20):\n",
    "    clf = rfc(max_depth=i, random_state=0)\n",
    "    clf.fit(X_train_scaled, y_train)\n",
    "    y_pred = clf.predict(X_test_scaled)\n",
    "    max_depth_best.append([i, accuracy_score(y_test, y_pred)])\n",
    "max_depth = pd.DataFrame(max_depth_best, columns= [\"max_depth\", \"Accuracy\"])\n",
    "max_depth"
   ]
  },
  {
   "cell_type": "code",
   "execution_count": null,
   "id": "74a6e70d",
   "metadata": {},
   "outputs": [],
   "source": [
    "# FINDING THE BEST N_ESTIMATOR\n",
    "n_estimators=[]\n",
    "for i in range(10,100):\n",
    "    clf= rfc(max_depth= 4, n_estimators=i, random_state=0)\n",
    "    clf.fit(X_train_scaled, y_train)\n",
    "    y_pred= clf.predict(X_test_scaled)\n",
    "    n_estimators.append([i, accuracy_score(y_test, y_pred)])"
   ]
  },
  {
   "cell_type": "code",
   "execution_count": null,
   "id": "91836503",
   "metadata": {},
   "outputs": [],
   "source": [
    "#The Optimal n_estimator\n",
    "n_estimate = pd.DataFrame(n_estimators, columns= [\"n_estimator\", \"Accuracy\"])\n",
    "n_estimate.loc[n_estimate[\"Accuracy\"].idxmax()]"
   ]
  },
  {
   "cell_type": "markdown",
   "id": "53cb1cf0",
   "metadata": {},
   "source": [
    "From the series above, we see that 0.8 is the highest score and the best n_estimator is 37."
   ]
  },
  {
   "cell_type": "markdown",
   "id": "54fd621b",
   "metadata": {},
   "source": [
    "# Training the random Forest Model With The Hyperparameters Obtained Above"
   ]
  },
  {
   "cell_type": "code",
   "execution_count": null,
   "id": "fc35ef9e",
   "metadata": {},
   "outputs": [],
   "source": [
    "rf_model = rfc(max_depth=4, n_estimators= 37, random_state=0)\n",
    "rf_model.fit(X_train_scaled, y_train)\n",
    "\n",
    "#Predicting on Testing Set\n",
    "\n",
    "y_pred= rf_model.predict(X_test_scaled)\n",
    "accuracy_score(y_test, y_pred)"
   ]
  },
  {
   "cell_type": "markdown",
   "id": "8398ccbd",
   "metadata": {},
   "source": [
    "## Confusion Matrix an Roc Curve"
   ]
  },
  {
   "cell_type": "code",
   "execution_count": null,
   "id": "8d897e51",
   "metadata": {},
   "outputs": [],
   "source": [
    "from sklearn.metrics import confusion_matrix\n",
    "from sklearn.metrics import ConfusionMatrixDisplay\n",
    "\n",
    "print (\"\\nClassification report :\\n\", metrics.classification_report(y_test, y_pred))\n",
    "\n",
    "conf_mat = confusion_matrix(y_test, y_pred, labels= rf_model.classes_)\n",
    "ConfusionMatrixDisplay(conf_mat, display_labels=rf_model.classes_).plot()\n",
    "print('Confusion Matrix\\n')\n"
   ]
  },
  {
   "cell_type": "markdown",
   "id": "bc803c80",
   "metadata": {},
   "source": [
    "## Random Forest Observations\n",
    "The model is having a small problem with separating between Ovarian_Tumor_Serous and Ovarian_Tumor_Endometrioid"
   ]
  },
  {
   "cell_type": "code",
   "execution_count": null,
   "id": "ff616fae",
   "metadata": {},
   "outputs": [],
   "source": [
    "# ROC curve\n",
    "rf_predicted_probs = rf_model.predict_proba(X_test_scaled)\n",
    "from sklearn.metrics import roc_curve\n",
    "\n",
    "fpr = {}\n",
    "tpr = {}\n",
    "thresh ={}\n",
    "\n",
    "n_class = 4\n",
    "\n",
    "for i in range(n_class):    \n",
    "    fpr[i], tpr[i], thresh[i] = roc_curve(y_test, rf_predicted_probs[:,i], pos_label=i)\n",
    "    roc_auc[i] = auc(fpr[i], tpr[i])\n",
    "# Compute micro-average ROC curve and ROC area\n",
    "fpr[\"micro\"], tpr[\"micro\"], _ = roc_curve(y_test, rf_predicted_probs[:,i], pos_label=i)\n",
    "roc_auc[\"micro\"] = auc(fpr[\"micro\"], tpr[\"micro\"])\n",
    "# plotting  \n",
    "for i in range(n_class):\n",
    "    plt.plot(fpr[i], tpr[i], label='ROC curve of class {0} (area = {1:0.2f})'\n",
    "                                   ''.format(i, roc_auc[i]))\n",
    "\n",
    "#plt.plot(fpr[0], tpr[0], linestyle='--',color='orange', label='ROC curve of class {0} (area = {1:0.2f})'''.format(i, roc_auc[i]))\n",
    "#plt.plot(fpr[1], tpr[1], linestyle='--',color='green', label='Class 1 vs Rest')\n",
    "#plt.plot(fpr[2], tpr[2], linestyle='--',color='blue', label='Class 2 vs Rest')\n",
    "#plt.plot(fpr[3], tpr[3], linestyle='--',color='black', label='Class 3 vs Rest')\n",
    "plt.title('Multiclass ROC curve')\n",
    "plt.xlabel('False Positive Rate')\n",
    "plt.ylabel('True Positive rate')\n",
    "plt.legend(loc='best')\n",
    "plt.savefig('Multiclass ROC',dpi=300);  \n",
    "\n",
    "plt.show()"
   ]
  },
  {
   "cell_type": "markdown",
   "id": "d93f5b78",
   "metadata": {},
   "source": [
    "## Feature Importances"
   ]
  },
  {
   "cell_type": "code",
   "execution_count": null,
   "id": "7e4fbb63",
   "metadata": {},
   "outputs": [],
   "source": [
    "print(f\"Quantity of features with 0 importance: {(rf_model.feature_importances_ ==0).sum()}\")"
   ]
  },
  {
   "cell_type": "code",
   "execution_count": null,
   "id": "4955cfad",
   "metadata": {},
   "outputs": [],
   "source": [
    "mask = (rf_model.feature_importances_ >0.006)\n",
    "importances = rf_model.feature_importances_[mask]\n",
    "feature_names = train.columns.values[:22283][mask]"
   ]
  },
  {
   "cell_type": "code",
   "execution_count": 62,
   "id": "030fbf8a",
   "metadata": {},
   "outputs": [
    {
     "data": {
      "image/png": "[encoded data removed]",
      "text/plain": [
       "<Figure size 1440x1440 with 1 Axes>"
      ]
     },
     "metadata": {
      "needs_background": "light"
     },
     "output_type": "display_data"
    }
   ],
   "source": [
    "fig = plt.figure(figsize=(20, 20))\n",
    "ax = fig.add_subplot(111)\n",
    "sns.barplot(x=feature_names, y=importances)\n",
    "plt.ylabel(\"Feature importance\")\n",
    "plt.xlabel(\"Feature name\")\n",
    "plt.title(\"Feature importance\", fontsize=28)\n",
    "ax.set_xticklabels(feature_names, rotation = 45)\n",
    "plt.show()"
   ]
  },
  {
   "cell_type": "code",
   "execution_count": 64,
   "id": "1eb4efab",
   "metadata": {},
   "outputs": [
    {
     "name": "stdout",
     "output_type": "stream",
     "text": [
      "Also accuracy score is: 0.8\n"
     ]
    }
   ],
   "source": [
    "print(f\"Also accuracy score is: {metrics.accuracy_score(y_test, y_pred)}\")"
   ]
  },
  {
   "cell_type": "markdown",
   "id": "2bfa621e",
   "metadata": {},
   "source": [
    "# K Nearest Neighbors Model"
   ]
  },
  {
   "cell_type": "code",
   "execution_count": 75,
   "id": "5b31f10b",
   "metadata": {
    "scrolled": true
   },
   "outputs": [
    {
     "data": {
      "text/html": [
       "<div>\n",
       "<style scoped>\n",
       "    .dataframe tbody tr th:only-of-type {\n",
       "        vertical-align: middle;\n",
       "    }\n",
       "\n",
       "    .dataframe tbody tr th {\n",
       "        vertical-align: top;\n",
       "    }\n",
       "\n",
       "    .dataframe thead th {\n",
       "        text-align: right;\n",
       "    }\n",
       "</style>\n",
       "<table border=\"1\" class=\"dataframe\">\n",
       "  <thead>\n",
       "    <tr style=\"text-align: right;\">\n",
       "      <th></th>\n",
       "      <th>n_neighbors</th>\n",
       "      <th>Accuracy</th>\n",
       "    </tr>\n",
       "  </thead>\n",
       "  <tbody>\n",
       "    <tr>\n",
       "      <th>0</th>\n",
       "      <td>1</td>\n",
       "      <td>0.40</td>\n",
       "    </tr>\n",
       "    <tr>\n",
       "      <th>1</th>\n",
       "      <td>2</td>\n",
       "      <td>0.30</td>\n",
       "    </tr>\n",
       "    <tr>\n",
       "      <th>2</th>\n",
       "      <td>3</td>\n",
       "      <td>0.40</td>\n",
       "    </tr>\n",
       "    <tr>\n",
       "      <th>3</th>\n",
       "      <td>4</td>\n",
       "      <td>0.50</td>\n",
       "    </tr>\n",
       "    <tr>\n",
       "      <th>4</th>\n",
       "      <td>5</td>\n",
       "      <td>0.65</td>\n",
       "    </tr>\n",
       "  </tbody>\n",
       "</table>\n",
       "</div>"
      ],
      "text/plain": [
       "   n_neighbors  Accuracy\n",
       "0            1      0.40\n",
       "1            2      0.30\n",
       "2            3      0.40\n",
       "3            4      0.50\n",
       "4            5      0.65"
      ]
     },
     "execution_count": 75,
     "metadata": {},
     "output_type": "execute_result"
    }
   ],
   "source": [
    "from sklearn.neighbors import KNeighborsClassifier as knn\n",
    "neighbors = []\n",
    "\n",
    "for i in range(1,20):\n",
    "    kclass= knn(n_neighbors=i)\n",
    "    kclass.fit(X_train, y_train)\n",
    "    y_pred= kclass.predict(X_test_scaled)\n",
    "    neighbors.append([i, accuracy_score(y_test, y_pred)])\n",
    "neighbors = pd.DataFrame(neighbors, columns= [\"n_neighbors\", \"Accuracy\"])\n",
    "neighbors.head()"
   ]
  },
  {
   "cell_type": "markdown",
   "id": "1dadf1e4",
   "metadata": {},
   "source": [
    "## LogisticRegression"
   ]
  },
  {
   "cell_type": "code",
   "execution_count": 82,
   "id": "5da9df0a",
   "metadata": {
    "scrolled": true
   },
   "outputs": [
    {
     "data": {
      "text/plain": [
       "0.8000000000000002"
      ]
     },
     "execution_count": 82,
     "metadata": {},
     "output_type": "execute_result"
    }
   ],
   "source": [
    "from sklearn.linear_model import LogisticRegression\n",
    "clf = LogisticRegression(random_state=0, solver='lbfgs', multi_class='multinomial').fit(X_train_scaled, y_train) \n",
    "lr_f1_score = metrics.f1_score(y_test, clf.predict(X_test_scaled), average=\"micro\")\n",
    "lr_f1_score"
   ]
  },
  {
   "cell_type": "markdown",
   "id": "aac12617",
   "metadata": {},
   "source": [
    "# Ensembling The Models"
   ]
  },
  {
   "cell_type": "code",
   "execution_count": 71,
   "id": "f63b935f",
   "metadata": {},
   "outputs": [],
   "source": [
    "rf_f1_score = metrics.f1_score(y_test, rf_model.predict(X_test_scaled), average=\"micro\")\n",
    "knn_f1_score = metrics.f1_score(y_test, kclass.predict(X_test_scaled), average=\"micro\")\n",
    "lr_f1_score = metrics.f1_score(y_test, clf.predict(X_test_scaled), average=\"micro\")"
   ]
  },
  {
   "cell_type": "code",
   "execution_count": 72,
   "id": "d04aea0a",
   "metadata": {},
   "outputs": [],
   "source": [
    "from sklearn.ensemble import VotingClassifier\n",
    "ensemble = VotingClassifier(estimators=[(\"rf\", rf_model), (\"knn\", kclass), (\"lr\", clf)],\n",
    "                                        voting=\"soft\")"
   ]
  },
  {
   "cell_type": "code",
   "execution_count": 73,
   "id": "d2a1a94c",
   "metadata": {},
   "outputs": [
    {
     "data": {
      "text/plain": [
       "VotingClassifier(estimators=[('rf',\n",
       "                              RandomForestClassifier(max_depth=4,\n",
       "                                                     n_estimators=37,\n",
       "                                                     random_state=0)),\n",
       "                             ('knn', KNeighborsClassifier(n_neighbors=19)),\n",
       "                             ('lr',\n",
       "                              LogisticRegression(multi_class='multinomial',\n",
       "                                                 random_state=0))],\n",
       "                 voting='soft')"
      ]
     },
     "execution_count": 73,
     "metadata": {},
     "output_type": "execute_result"
    }
   ],
   "source": [
    "ensemble.fit(X_train_scaled, y_train)"
   ]
  },
  {
   "cell_type": "code",
   "execution_count": 78,
   "id": "41dabd7a",
   "metadata": {
    "scrolled": false
   },
   "outputs": [
    {
     "name": "stdout",
     "output_type": "stream",
     "text": [
      "Validation f1-score of Ensemble Classifier is 0.85\n",
      "\n",
      "Classification report :\n",
      "               precision    recall  f1-score   support\n",
      "\n",
      "           0       1.00      0.50      0.67         2\n",
      "           1       0.78      0.88      0.82         8\n",
      "           2       1.00      0.50      0.67         2\n",
      "           3       0.89      1.00      0.94         8\n",
      "\n",
      "    accuracy                           0.85        20\n",
      "   macro avg       0.92      0.72      0.77        20\n",
      "weighted avg       0.87      0.85      0.84        20\n",
      "\n"
     ]
    },
    {
     "data": {
      "text/plain": [
       "Text(0.5, 1.0, 'CONFUSION MATRIX')"
      ]
     },
     "execution_count": 78,
     "metadata": {},
     "output_type": "execute_result"
    },
    {
     "data": {
      "image/png": "[encoded data removed]",
      "text/plain": [
       "<Figure size 1296x1008 with 2 Axes>"
      ]
     },
     "metadata": {
      "needs_background": "light"
     },
     "output_type": "display_data"
    }
   ],
   "source": [
    "ens_prediction = ensemble.predict(X_test_scaled)\n",
    "f1_score = metrics.f1_score(y_test, ens_prediction, average=\"micro\")\n",
    "print('Validation f1-score of Ensemble Classifier is', f1_score)\n",
    "print (\"\\nClassification report :\\n\", metrics.classification_report(y_test, ens_prediction))\n",
    "\n",
    "# Confusion matrix\n",
    "plt.figure(figsize=(18, 14))\n",
    "plt.subplot(221)\n",
    "sns.heatmap(metrics.confusion_matrix(y_test, ens_prediction), annot=True, fmt = \"d\", linecolor=\"k\", linewidths=3)\n",
    "plt.title(\"CONFUSION MATRIX\", fontsize=20)\n",
    "\n"
   ]
  },
  {
   "cell_type": "markdown",
   "id": "3d0154c7",
   "metadata": {},
   "source": [
    "# Comparison of the models"
   ]
  },
  {
   "cell_type": "code",
   "execution_count": 81,
   "id": "d1739608",
   "metadata": {},
   "outputs": [
    {
     "data": {
      "text/html": [
       "<div>\n",
       "<style scoped>\n",
       "    .dataframe tbody tr th:only-of-type {\n",
       "        vertical-align: middle;\n",
       "    }\n",
       "\n",
       "    .dataframe tbody tr th {\n",
       "        vertical-align: top;\n",
       "    }\n",
       "\n",
       "    .dataframe thead th {\n",
       "        text-align: right;\n",
       "    }\n",
       "</style>\n",
       "<table border=\"1\" class=\"dataframe\">\n",
       "  <thead>\n",
       "    <tr style=\"text-align: right;\">\n",
       "      <th></th>\n",
       "      <th>Model</th>\n",
       "      <th>Accuracy</th>\n",
       "    </tr>\n",
       "  </thead>\n",
       "  <tbody>\n",
       "    <tr>\n",
       "      <th>0</th>\n",
       "      <td>Random Forest</td>\n",
       "      <td>0.80</td>\n",
       "    </tr>\n",
       "    <tr>\n",
       "      <th>1</th>\n",
       "      <td>KNN</td>\n",
       "      <td>0.75</td>\n",
       "    </tr>\n",
       "    <tr>\n",
       "      <th>2</th>\n",
       "      <td>Logistic</td>\n",
       "      <td>0.80</td>\n",
       "    </tr>\n",
       "    <tr>\n",
       "      <th>3</th>\n",
       "      <td>Ensemble</td>\n",
       "      <td>0.85</td>\n",
       "    </tr>\n",
       "  </tbody>\n",
       "</table>\n",
       "</div>"
      ],
      "text/plain": [
       "           Model  Accuracy\n",
       "0  Random Forest      0.80\n",
       "1            KNN      0.75\n",
       "2       Logistic      0.80\n",
       "3       Ensemble      0.85"
      ]
     },
     "execution_count": 81,
     "metadata": {},
     "output_type": "execute_result"
    }
   ],
   "source": [
    "model_scores = [rf_model.score(X_test_scaled, y_test), \n",
    "                kclass.score(X_test_scaled, y_test), \n",
    "               clf.score(X_test_scaled, y_test),\n",
    "               ensemble.score(X_test_scaled, y_test)]\n",
    "models = pd.DataFrame({\"Model\": [\"Random Forest\", \"KNN\", \"Logistic\", \"Ensemble\"],\n",
    "              \"Accuracy\": model_scores})\n",
    "models"
   ]
  },
  {
   "cell_type": "markdown",
   "id": "eaaf6560",
   "metadata": {},
   "source": [
    "As we can see Ensemble have shown the best performance. \n",
    "\n"
   ]
  },
  {
   "cell_type": "markdown",
   "id": "9d9f3ace",
   "metadata": {
    "scrolled": true
   },
   "source": [
    "# Conclusion"
   ]
  },
  {
   "cell_type": "markdown",
   "id": "543f2d0d",
   "metadata": {},
   "source": [
    "Results:\n",
    "\n",
    "RandomForest and LogisticRegression have shown a good results: f1-score was 0.8 and other metrics were good too.\n",
    "Also we got the most important genes for cancer type distinguishing.\n",
    "Then we built Ensemble classifier and it have performed noce results (f1-score was 1)"
   ]
  },
  {
   "cell_type": "markdown",
   "id": "e0bea600",
   "metadata": {},
   "source": [
    "## Comments\n",
    "\n",
    "\n",
    "#### Task 1\n",
    "\n",
    "Machine learning methods are extensively used in the bio-medical field to successfully distinguish among cancer subtypes or normal versus cancer samples. \n",
    "In this dataset we are handling a supervised learning techniques to classify cancer subtypes. The data containes 4 classes relatively balanced. \n",
    "Checking the training set, we notice that we don't have to clean the data for duplicates and missing values.\n",
    "\n",
    "challenges:\n",
    "\n",
    " 1- Looking at the summary statistics, we can see that the gene expression values or features values have slightly different ranges. \n",
    " \n",
    " 2- Looking at the number of features in the data, we can comfirm that gene expression data provided by microarray technology is of enormous size i.e. high dimensional which makes analysis a very challenging task. \n",
    "\n",
    "Other challenges could be discovered as we do a more detailed analysis of the data, such as checking the data for high correlation between features or for collinearity. Another challenge could also be having outliers in the data, it is sometimes important to check for anomalies in the data especially that the dataset at out disposal is high dimensional, therfore prone to anomalies.\n",
    "\n",
    "\n",
    "\n",
    "#### Task 2 and 3\n",
    "\n",
    "As a solution to point n.o 1, we need to preprocess the data, I would suggest to change the values of the columns to a common scale, without distorting differences in the ranges of values using the classic standard scaler. \n",
    "\n",
    "As a solution to point n.o 2, I would that the gene selection is an essential process which removes the problem of dimensionality by removing irrelevant and unwanted genes from gene expression data. Different approches were suggested in the literature. One could think of standard wrapper feature selection approches. However, these techniques are time consuming and require evaluating multiple models using procedures that add and/or remove predictors to find the optimal feature combination that maximizes model performance which is computationally intensive. Another approach is using filter techniques as these methods are faster and less computationally expensive than wrapper methods. When dealing with high-dimensional data, it is computationally cheaper to use filter methods. Some of these techniques are Information Gain/ Fisher's score/ Chi Square test to name a few (checkout https://www.analyticsvidhya.com/blog/2020/10/feature-selection-techniques-in-machine-learning/ ).\n",
    "\n",
    "Another approach designed specifically for gene expression data is ReliefF model families. The main benefit of ReliefF algorithms is that they identify feature interactions without having to exhaustively check every pairwise interaction, thus taking significantly less time than exhaustive pairwise search. Check the following links https://pypi.org/project/ReliefF/ and https://en.wikipedia.org/wiki/Relief_(feature_selection).\n",
    "\n",
    "\n",
    "As a last suggestion, we can use the classic dimensionality reduction techniques such as Principal Component Analysis PCA or LDA.\n",
    "\n",
    "For a probable issue of high variance and multicollinearity, mentioned above, we can check a sequence of columns (subsets and preserve the order as apparently the order is important in forming the RNA) and do a correlation analysis on those... (heatmap of the pairwise correlations/ VIF Analysis, etc...)\n",
    "\n",
    "\n",
    "For Modelling, we tried some classification algorithms to differentiate between cancer subtypes such as random forest, k-nearest neighbor, logistic regression and we finally put them together in order to get a better performance. To the best of our knowledge, no classification method universally outperforms all the others. However, Xgboost and other gradient boosting models can sometimes performan better than other classifiers as each successive model attempts to correct for the shortcomings of the combined boosted ensemble of all previous models.\n",
    "\n",
    "\n",
    "Interesting papers for your reference : \n",
    "\n",
    "- https://www.eurekaselect.com/article/76470#:~:text=The%20gene%20expression%20data%20provided,genes%20from%20gene%20expression%20data.\n",
    "- https://www.ncbi.nlm.nih.gov/pmc/articles/PMC3873740/\n",
    "\n"
   ]
  },
  {
   "cell_type": "code",
   "execution_count": null,
   "id": "e6e5cc6a",
   "metadata": {},
   "outputs": [],
   "source": []
  }
 ],
 "metadata": {
  "kernelspec": {
   "display_name": "Python 3 (ipykernel)",
   "language": "python",
   "name": "python3"
  },
  "language_info": {
   "codemirror_mode": {
    "name": "ipython",
    "version": 3
   },
   "file_extension": ".py",
   "mimetype": "text/x-python",
   "name": "python",
   "nbconvert_exporter": "python",
   "pygments_lexer": "ipython3",
   "version": "3.9.12"
  }
 },
 "nbformat": 4,
 "nbformat_minor": 5
}
